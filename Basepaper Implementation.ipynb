{
 "cells": [
  {
   "cell_type": "code",
   "execution_count": 106,
   "metadata": {},
   "outputs": [],
   "source": [
    "import pandas as pd\n",
    "import numpy as np"
   ]
  },
  {
   "cell_type": "code",
   "execution_count": 107,
   "metadata": {},
   "outputs": [
    {
     "name": "stdout",
     "output_type": "stream",
     "text": [
      "Match_SK                 int64\n",
      "match_id                 int64\n",
      "Team1                   object\n",
      "Team2                   object\n",
      "match_date      datetime64[ns]\n",
      "Season_Year              int64\n",
      "Venue_Name              object\n",
      "City_Name               object\n",
      "Country_Name            object\n",
      "Toss_Winner             object\n",
      "match_winner            object\n",
      "Toss_Name               object\n",
      "Win_Type                object\n",
      "Outcome_Type            object\n",
      "ManOfMach               object\n",
      "Win_Margin               int64\n",
      "Country_id               int64\n",
      "dtype: object\n"
     ]
    },
    {
     "data": {
      "text/html": [
       "<div>\n",
       "<style scoped>\n",
       "    .dataframe tbody tr th:only-of-type {\n",
       "        vertical-align: middle;\n",
       "    }\n",
       "\n",
       "    .dataframe tbody tr th {\n",
       "        vertical-align: top;\n",
       "    }\n",
       "\n",
       "    .dataframe thead th {\n",
       "        text-align: right;\n",
       "    }\n",
       "</style>\n",
       "<table border=\"1\" class=\"dataframe\">\n",
       "  <thead>\n",
       "    <tr style=\"text-align: right;\">\n",
       "      <th></th>\n",
       "      <th>Match_SK</th>\n",
       "      <th>match_id</th>\n",
       "      <th>Team1</th>\n",
       "      <th>Team2</th>\n",
       "      <th>match_date</th>\n",
       "      <th>Season_Year</th>\n",
       "      <th>Venue_Name</th>\n",
       "      <th>City_Name</th>\n",
       "      <th>Country_Name</th>\n",
       "      <th>Toss_Winner</th>\n",
       "      <th>match_winner</th>\n",
       "      <th>Toss_Name</th>\n",
       "      <th>Win_Type</th>\n",
       "      <th>Outcome_Type</th>\n",
       "      <th>ManOfMach</th>\n",
       "      <th>Win_Margin</th>\n",
       "      <th>Country_id</th>\n",
       "    </tr>\n",
       "  </thead>\n",
       "  <tbody>\n",
       "    <tr>\n",
       "      <th>0</th>\n",
       "      <td>546</td>\n",
       "      <td>980964</td>\n",
       "      <td>Royal Challengers Bangalore</td>\n",
       "      <td>Kolkata Knight Riders</td>\n",
       "      <td>2016-05-02</td>\n",
       "      <td>2016</td>\n",
       "      <td>M Chinnaswamy Stadium</td>\n",
       "      <td>Bangalore</td>\n",
       "      <td>India</td>\n",
       "      <td>Kolkata Knight Riders</td>\n",
       "      <td>Kolkata Knight Riders</td>\n",
       "      <td>field</td>\n",
       "      <td>wickets</td>\n",
       "      <td>Result</td>\n",
       "      <td>AD Russell</td>\n",
       "      <td>5</td>\n",
       "      <td>1</td>\n",
       "    </tr>\n",
       "    <tr>\n",
       "      <th>1</th>\n",
       "      <td>547</td>\n",
       "      <td>980966</td>\n",
       "      <td>Gujarat Lions</td>\n",
       "      <td>Delhi Daredevils</td>\n",
       "      <td>2016-05-03</td>\n",
       "      <td>2016</td>\n",
       "      <td>Saurashtra Cricket Association Stadium</td>\n",
       "      <td>Rajkot</td>\n",
       "      <td>India</td>\n",
       "      <td>Delhi Daredevils</td>\n",
       "      <td>Delhi Daredevils</td>\n",
       "      <td>field</td>\n",
       "      <td>wickets</td>\n",
       "      <td>Result</td>\n",
       "      <td>RR Pant</td>\n",
       "      <td>8</td>\n",
       "      <td>1</td>\n",
       "    </tr>\n",
       "    <tr>\n",
       "      <th>2</th>\n",
       "      <td>548</td>\n",
       "      <td>980968</td>\n",
       "      <td>Kolkata Knight Riders</td>\n",
       "      <td>Kings XI Punjab</td>\n",
       "      <td>2016-05-04</td>\n",
       "      <td>2016</td>\n",
       "      <td>Eden Gardens</td>\n",
       "      <td>Kolkata</td>\n",
       "      <td>India</td>\n",
       "      <td>Kings XI Punjab</td>\n",
       "      <td>Kolkata Knight Riders</td>\n",
       "      <td>field</td>\n",
       "      <td>runs</td>\n",
       "      <td>Result</td>\n",
       "      <td>AD Russell</td>\n",
       "      <td>7</td>\n",
       "      <td>1</td>\n",
       "    </tr>\n",
       "    <tr>\n",
       "      <th>3</th>\n",
       "      <td>549</td>\n",
       "      <td>980970</td>\n",
       "      <td>Delhi Daredevils</td>\n",
       "      <td>Rising Pune Supergiants</td>\n",
       "      <td>2016-05-05</td>\n",
       "      <td>2016</td>\n",
       "      <td>Feroz Shah Kotla</td>\n",
       "      <td>Delhi</td>\n",
       "      <td>India</td>\n",
       "      <td>Rising Pune Supergiants</td>\n",
       "      <td>Rising Pune Supergiants</td>\n",
       "      <td>field</td>\n",
       "      <td>wickets</td>\n",
       "      <td>Result</td>\n",
       "      <td>AM Rahane</td>\n",
       "      <td>7</td>\n",
       "      <td>1</td>\n",
       "    </tr>\n",
       "    <tr>\n",
       "      <th>4</th>\n",
       "      <td>550</td>\n",
       "      <td>980972</td>\n",
       "      <td>Sunrisers Hyderabad</td>\n",
       "      <td>Gujarat Lions</td>\n",
       "      <td>2016-05-06</td>\n",
       "      <td>2016</td>\n",
       "      <td>Rajiv Gandhi International Stadium, Uppal</td>\n",
       "      <td>Hyderabad</td>\n",
       "      <td>India</td>\n",
       "      <td>Sunrisers Hyderabad</td>\n",
       "      <td>Sunrisers Hyderabad</td>\n",
       "      <td>field</td>\n",
       "      <td>wickets</td>\n",
       "      <td>Result</td>\n",
       "      <td>B Kumar</td>\n",
       "      <td>5</td>\n",
       "      <td>1</td>\n",
       "    </tr>\n",
       "  </tbody>\n",
       "</table>\n",
       "</div>"
      ],
      "text/plain": [
       "   Match_SK  match_id                        Team1                    Team2  \\\n",
       "0       546    980964  Royal Challengers Bangalore    Kolkata Knight Riders   \n",
       "1       547    980966                Gujarat Lions         Delhi Daredevils   \n",
       "2       548    980968        Kolkata Knight Riders          Kings XI Punjab   \n",
       "3       549    980970             Delhi Daredevils  Rising Pune Supergiants   \n",
       "4       550    980972          Sunrisers Hyderabad            Gujarat Lions   \n",
       "\n",
       "  match_date  Season_Year                                 Venue_Name  \\\n",
       "0 2016-05-02         2016                      M Chinnaswamy Stadium   \n",
       "1 2016-05-03         2016     Saurashtra Cricket Association Stadium   \n",
       "2 2016-05-04         2016                               Eden Gardens   \n",
       "3 2016-05-05         2016                           Feroz Shah Kotla   \n",
       "4 2016-05-06         2016  Rajiv Gandhi International Stadium, Uppal   \n",
       "\n",
       "   City_Name Country_Name              Toss_Winner             match_winner  \\\n",
       "0  Bangalore        India    Kolkata Knight Riders    Kolkata Knight Riders   \n",
       "1     Rajkot        India         Delhi Daredevils         Delhi Daredevils   \n",
       "2    Kolkata        India          Kings XI Punjab    Kolkata Knight Riders   \n",
       "3      Delhi        India  Rising Pune Supergiants  Rising Pune Supergiants   \n",
       "4  Hyderabad        India      Sunrisers Hyderabad      Sunrisers Hyderabad   \n",
       "\n",
       "  Toss_Name Win_Type Outcome_Type   ManOfMach  Win_Margin  Country_id  \n",
       "0     field  wickets       Result  AD Russell           5           1  \n",
       "1     field  wickets       Result     RR Pant           8           1  \n",
       "2     field     runs       Result  AD Russell           7           1  \n",
       "3     field  wickets       Result   AM Rahane           7           1  \n",
       "4     field  wickets       Result     B Kumar           5           1  "
      ]
     },
     "execution_count": 107,
     "metadata": {},
     "output_type": "execute_result"
    }
   ],
   "source": [
    "df = pd.read_excel('E:\\Data\\Mini Project\\DIM_MATCH.xlsx')\n",
    "print(df.dtypes)\n",
    "df.head()"
   ]
  },
  {
   "cell_type": "code",
   "execution_count": 108,
   "metadata": {},
   "outputs": [
    {
     "data": {
      "text/html": [
       "<div>\n",
       "<style scoped>\n",
       "    .dataframe tbody tr th:only-of-type {\n",
       "        vertical-align: middle;\n",
       "    }\n",
       "\n",
       "    .dataframe tbody tr th {\n",
       "        vertical-align: top;\n",
       "    }\n",
       "\n",
       "    .dataframe thead th {\n",
       "        text-align: right;\n",
       "    }\n",
       "</style>\n",
       "<table border=\"1\" class=\"dataframe\">\n",
       "  <thead>\n",
       "    <tr style=\"text-align: right;\">\n",
       "      <th></th>\n",
       "      <th>Match_SK</th>\n",
       "      <th>match_id</th>\n",
       "      <th>Season_Year</th>\n",
       "      <th>Win_Margin</th>\n",
       "      <th>Country_id</th>\n",
       "    </tr>\n",
       "  </thead>\n",
       "  <tbody>\n",
       "    <tr>\n",
       "      <th>count</th>\n",
       "      <td>637.000000</td>\n",
       "      <td>6.370000e+02</td>\n",
       "      <td>637.000000</td>\n",
       "      <td>637.000000</td>\n",
       "      <td>637.000000</td>\n",
       "    </tr>\n",
       "    <tr>\n",
       "      <th>mean</th>\n",
       "      <td>318.000000</td>\n",
       "      <td>6.378825e+05</td>\n",
       "      <td>2012.497645</td>\n",
       "      <td>17.028257</td>\n",
       "      <td>1.152276</td>\n",
       "    </tr>\n",
       "    <tr>\n",
       "      <th>std</th>\n",
       "      <td>184.030342</td>\n",
       "      <td>2.356312e+05</td>\n",
       "      <td>2.776600</td>\n",
       "      <td>22.149062</td>\n",
       "      <td>0.438388</td>\n",
       "    </tr>\n",
       "    <tr>\n",
       "      <th>min</th>\n",
       "      <td>0.000000</td>\n",
       "      <td>3.359870e+05</td>\n",
       "      <td>2008.000000</td>\n",
       "      <td>0.000000</td>\n",
       "      <td>1.000000</td>\n",
       "    </tr>\n",
       "    <tr>\n",
       "      <th>25%</th>\n",
       "      <td>159.000000</td>\n",
       "      <td>4.191550e+05</td>\n",
       "      <td>2010.000000</td>\n",
       "      <td>6.000000</td>\n",
       "      <td>1.000000</td>\n",
       "    </tr>\n",
       "    <tr>\n",
       "      <th>50%</th>\n",
       "      <td>318.000000</td>\n",
       "      <td>5.483830e+05</td>\n",
       "      <td>2012.000000</td>\n",
       "      <td>8.000000</td>\n",
       "      <td>1.000000</td>\n",
       "    </tr>\n",
       "    <tr>\n",
       "      <th>75%</th>\n",
       "      <td>477.000000</td>\n",
       "      <td>8.297480e+05</td>\n",
       "      <td>2015.000000</td>\n",
       "      <td>20.000000</td>\n",
       "      <td>1.000000</td>\n",
       "    </tr>\n",
       "    <tr>\n",
       "      <th>max</th>\n",
       "      <td>636.000000</td>\n",
       "      <td>1.082650e+06</td>\n",
       "      <td>2017.000000</td>\n",
       "      <td>146.000000</td>\n",
       "      <td>3.000000</td>\n",
       "    </tr>\n",
       "  </tbody>\n",
       "</table>\n",
       "</div>"
      ],
      "text/plain": [
       "         Match_SK      match_id  Season_Year  Win_Margin  Country_id\n",
       "count  637.000000  6.370000e+02   637.000000  637.000000  637.000000\n",
       "mean   318.000000  6.378825e+05  2012.497645   17.028257    1.152276\n",
       "std    184.030342  2.356312e+05     2.776600   22.149062    0.438388\n",
       "min      0.000000  3.359870e+05  2008.000000    0.000000    1.000000\n",
       "25%    159.000000  4.191550e+05  2010.000000    6.000000    1.000000\n",
       "50%    318.000000  5.483830e+05  2012.000000    8.000000    1.000000\n",
       "75%    477.000000  8.297480e+05  2015.000000   20.000000    1.000000\n",
       "max    636.000000  1.082650e+06  2017.000000  146.000000    3.000000"
      ]
     },
     "execution_count": 108,
     "metadata": {},
     "output_type": "execute_result"
    }
   ],
   "source": [
    "df.describe()"
   ]
  },
  {
   "cell_type": "code",
   "execution_count": 109,
   "metadata": {},
   "outputs": [
    {
     "data": {
      "text/plain": [
       "<matplotlib.axes._subplots.AxesSubplot at 0x1f78fb244c8>"
      ]
     },
     "execution_count": 109,
     "metadata": {},
     "output_type": "execute_result"
    },
    {
     "data": {
      "image/png": "[encoded data removed]",
      "text/plain": [
       "<Figure size 432x288 with 1 Axes>"
      ]
     },
     "metadata": {},
     "output_type": "display_data"
    }
   ],
   "source": [
    "df['Toss_Name']=df['Toss_Name'].str.lower()\n",
    "df['Toss_Name'].value_counts().plot.pie()"
   ]
  },
  {
   "cell_type": "code",
   "execution_count": 111,
   "metadata": {},
   "outputs": [
    {
     "data": {
      "text/plain": [
       "<matplotlib.axes._subplots.AxesSubplot at 0x1f78fb1c908>"
      ]
     },
     "execution_count": 111,
     "metadata": {},
     "output_type": "execute_result"
    },
    {
     "data": {
      "image/png": "[encoded data removed]",
      "text/plain": [
       "<Figure size 432x288 with 1 Axes>"
      ]
     },
     "metadata": {},
     "output_type": "display_data"
    }
   ],
   "source": [
    "df['Win_Type'].value_counts().plot.pie()"
   ]
  },
  {
   "cell_type": "code",
   "execution_count": 110,
   "metadata": {},
   "outputs": [
    {
     "data": {
      "text/plain": [
       "<matplotlib.axes._subplots.AxesSubplot at 0x1f78cf79088>"
      ]
     },
     "execution_count": 110,
     "metadata": {},
     "output_type": "execute_result"
    },
    {
     "data": {
      "image/png": "[encoded data removed]",
      "text/plain": [
       "<Figure size 432x288 with 1 Axes>"
      ]
     },
     "metadata": {
      "needs_background": "light"
     },
     "output_type": "display_data"
    }
   ],
   "source": [
    "df['match_winner'].value_counts().plot.bar()"
   ]
  },
  {
   "cell_type": "code",
   "execution_count": 112,
   "metadata": {},
   "outputs": [
    {
     "data": {
      "text/plain": [
       "(637, 17)"
      ]
     },
     "execution_count": 112,
     "metadata": {},
     "output_type": "execute_result"
    }
   ],
   "source": [
    "df.shape"
   ]
  },
  {
   "cell_type": "code",
   "execution_count": 113,
   "metadata": {},
   "outputs": [
    {
     "name": "stdout",
     "output_type": "stream",
     "text": [
      "After Dropping No results, Shape=(632, 17)\n"
     ]
    },
    {
     "data": {
      "text/plain": [
       "array(['Result', 'Superover'], dtype=object)"
      ]
     },
     "execution_count": 113,
     "metadata": {},
     "output_type": "execute_result"
    }
   ],
   "source": [
    "df1=df[df['match_winner'].notna()]\n",
    "df1=df1[(df1['Outcome_Type']!='No Result')&(df1['Outcome_Type']!='abandoned')&(df1['Outcome_Type']!='tied')]\n",
    "print(\"After Dropping No results, Shape=\" + str(df1.shape))\n",
    "df1.head()\n",
    "df1['Outcome_Type'].unique()"
   ]
  },
  {
   "cell_type": "code",
   "execution_count": 114,
   "metadata": {},
   "outputs": [
    {
     "data": {
      "text/html": [
       "<div>\n",
       "<style scoped>\n",
       "    .dataframe tbody tr th:only-of-type {\n",
       "        vertical-align: middle;\n",
       "    }\n",
       "\n",
       "    .dataframe tbody tr th {\n",
       "        vertical-align: top;\n",
       "    }\n",
       "\n",
       "    .dataframe thead th {\n",
       "        text-align: right;\n",
       "    }\n",
       "</style>\n",
       "<table border=\"1\" class=\"dataframe\">\n",
       "  <thead>\n",
       "    <tr style=\"text-align: right;\">\n",
       "      <th></th>\n",
       "      <th>Team1</th>\n",
       "      <th>Team2</th>\n",
       "      <th>Season_Year</th>\n",
       "      <th>City_Name</th>\n",
       "      <th>Country_Name</th>\n",
       "      <th>Toss_Winner</th>\n",
       "      <th>match_winner</th>\n",
       "      <th>Toss_Name</th>\n",
       "      <th>Win_Type</th>\n",
       "      <th>Outcome_Type</th>\n",
       "      <th>ManOfMach</th>\n",
       "      <th>Win_Margin</th>\n",
       "      <th>Country_id</th>\n",
       "    </tr>\n",
       "  </thead>\n",
       "  <tbody>\n",
       "    <tr>\n",
       "      <th>0</th>\n",
       "      <td>Royal Challengers Bangalore</td>\n",
       "      <td>Kolkata Knight Riders</td>\n",
       "      <td>2016</td>\n",
       "      <td>Bangalore</td>\n",
       "      <td>India</td>\n",
       "      <td>Kolkata Knight Riders</td>\n",
       "      <td>Kolkata Knight Riders</td>\n",
       "      <td>field</td>\n",
       "      <td>wickets</td>\n",
       "      <td>Result</td>\n",
       "      <td>AD Russell</td>\n",
       "      <td>5</td>\n",
       "      <td>1</td>\n",
       "    </tr>\n",
       "    <tr>\n",
       "      <th>1</th>\n",
       "      <td>Gujarat Lions</td>\n",
       "      <td>Delhi Daredevils</td>\n",
       "      <td>2016</td>\n",
       "      <td>Rajkot</td>\n",
       "      <td>India</td>\n",
       "      <td>Delhi Daredevils</td>\n",
       "      <td>Delhi Daredevils</td>\n",
       "      <td>field</td>\n",
       "      <td>wickets</td>\n",
       "      <td>Result</td>\n",
       "      <td>RR Pant</td>\n",
       "      <td>8</td>\n",
       "      <td>1</td>\n",
       "    </tr>\n",
       "    <tr>\n",
       "      <th>2</th>\n",
       "      <td>Kolkata Knight Riders</td>\n",
       "      <td>Kings XI Punjab</td>\n",
       "      <td>2016</td>\n",
       "      <td>Kolkata</td>\n",
       "      <td>India</td>\n",
       "      <td>Kings XI Punjab</td>\n",
       "      <td>Kolkata Knight Riders</td>\n",
       "      <td>field</td>\n",
       "      <td>runs</td>\n",
       "      <td>Result</td>\n",
       "      <td>AD Russell</td>\n",
       "      <td>7</td>\n",
       "      <td>1</td>\n",
       "    </tr>\n",
       "    <tr>\n",
       "      <th>3</th>\n",
       "      <td>Delhi Daredevils</td>\n",
       "      <td>Rising Pune Supergiants</td>\n",
       "      <td>2016</td>\n",
       "      <td>Delhi</td>\n",
       "      <td>India</td>\n",
       "      <td>Rising Pune Supergiants</td>\n",
       "      <td>Rising Pune Supergiants</td>\n",
       "      <td>field</td>\n",
       "      <td>wickets</td>\n",
       "      <td>Result</td>\n",
       "      <td>AM Rahane</td>\n",
       "      <td>7</td>\n",
       "      <td>1</td>\n",
       "    </tr>\n",
       "    <tr>\n",
       "      <th>4</th>\n",
       "      <td>Sunrisers Hyderabad</td>\n",
       "      <td>Gujarat Lions</td>\n",
       "      <td>2016</td>\n",
       "      <td>Hyderabad</td>\n",
       "      <td>India</td>\n",
       "      <td>Sunrisers Hyderabad</td>\n",
       "      <td>Sunrisers Hyderabad</td>\n",
       "      <td>field</td>\n",
       "      <td>wickets</td>\n",
       "      <td>Result</td>\n",
       "      <td>B Kumar</td>\n",
       "      <td>5</td>\n",
       "      <td>1</td>\n",
       "    </tr>\n",
       "  </tbody>\n",
       "</table>\n",
       "</div>"
      ],
      "text/plain": [
       "                         Team1                    Team2  Season_Year  \\\n",
       "0  Royal Challengers Bangalore    Kolkata Knight Riders         2016   \n",
       "1                Gujarat Lions         Delhi Daredevils         2016   \n",
       "2        Kolkata Knight Riders          Kings XI Punjab         2016   \n",
       "3             Delhi Daredevils  Rising Pune Supergiants         2016   \n",
       "4          Sunrisers Hyderabad            Gujarat Lions         2016   \n",
       "\n",
       "   City_Name Country_Name              Toss_Winner             match_winner  \\\n",
       "0  Bangalore        India    Kolkata Knight Riders    Kolkata Knight Riders   \n",
       "1     Rajkot        India         Delhi Daredevils         Delhi Daredevils   \n",
       "2    Kolkata        India          Kings XI Punjab    Kolkata Knight Riders   \n",
       "3      Delhi        India  Rising Pune Supergiants  Rising Pune Supergiants   \n",
       "4  Hyderabad        India      Sunrisers Hyderabad      Sunrisers Hyderabad   \n",
       "\n",
       "  Toss_Name Win_Type Outcome_Type   ManOfMach  Win_Margin  Country_id  \n",
       "0     field  wickets       Result  AD Russell           5           1  \n",
       "1     field  wickets       Result     RR Pant           8           1  \n",
       "2     field     runs       Result  AD Russell           7           1  \n",
       "3     field  wickets       Result   AM Rahane           7           1  \n",
       "4     field  wickets       Result     B Kumar           5           1  "
      ]
     },
     "execution_count": 114,
     "metadata": {},
     "output_type": "execute_result"
    }
   ],
   "source": [
    "dropped_features = ['match_id','Match_SK','match_date','Venue_Name']\n",
    "df1=df1.drop(dropped_features,axis=1)\n",
    "df_copy=df1.copy()\n",
    "df1.head()"
   ]
  },
  {
   "cell_type": "code",
   "execution_count": 115,
   "metadata": {},
   "outputs": [],
   "source": [
    "import scipy.stats as ss\n",
    "def cramers_v(x, y):\n",
    "    confusion_matrix = pd.crosstab(x,y)\n",
    "    chi2 = ss.chi2_contingency(confusion_matrix)[0]\n",
    "    n = confusion_matrix.sum().sum()\n",
    "    phi2 = chi2/n\n",
    "    r,k = confusion_matrix.shape\n",
    "    phi2corr = max(0, phi2-((k-1)*(r-1))/(n-1))\n",
    "    rcorr = r-((r-1)**2)/(n-1)\n",
    "    kcorr = k-((k-1)**2)/(n-1)\n",
    "    return np.sqrt(phi2corr/min((kcorr-1),(rcorr-1)))"
   ]
  },
  {
   "cell_type": "code",
   "execution_count": 116,
   "metadata": {
    "scrolled": true
   },
   "outputs": [
    {
     "data": {
      "text/html": [
       "<div>\n",
       "<style scoped>\n",
       "    .dataframe tbody tr th:only-of-type {\n",
       "        vertical-align: middle;\n",
       "    }\n",
       "\n",
       "    .dataframe tbody tr th {\n",
       "        vertical-align: top;\n",
       "    }\n",
       "\n",
       "    .dataframe thead th {\n",
       "        text-align: right;\n",
       "    }\n",
       "</style>\n",
       "<table border=\"1\" class=\"dataframe\">\n",
       "  <thead>\n",
       "    <tr style=\"text-align: right;\">\n",
       "      <th></th>\n",
       "      <th>match_winner</th>\n",
       "    </tr>\n",
       "  </thead>\n",
       "  <tbody>\n",
       "    <tr>\n",
       "      <th>Team1</th>\n",
       "      <td>0.46</td>\n",
       "    </tr>\n",
       "    <tr>\n",
       "      <th>Team2</th>\n",
       "      <td>0.42</td>\n",
       "    </tr>\n",
       "    <tr>\n",
       "      <th>Season_Year</th>\n",
       "      <td>0.22</td>\n",
       "    </tr>\n",
       "    <tr>\n",
       "      <th>City_Name</th>\n",
       "      <td>0.38</td>\n",
       "    </tr>\n",
       "    <tr>\n",
       "      <th>Country_Name</th>\n",
       "      <td>0.13</td>\n",
       "    </tr>\n",
       "    <tr>\n",
       "      <th>Toss_Winner</th>\n",
       "      <td>0.49</td>\n",
       "    </tr>\n",
       "    <tr>\n",
       "      <th>match_winner</th>\n",
       "      <td>1.00</td>\n",
       "    </tr>\n",
       "    <tr>\n",
       "      <th>Toss_Name</th>\n",
       "      <td>0.22</td>\n",
       "    </tr>\n",
       "    <tr>\n",
       "      <th>Win_Type</th>\n",
       "      <td>0.06</td>\n",
       "    </tr>\n",
       "    <tr>\n",
       "      <th>Outcome_Type</th>\n",
       "      <td>0.00</td>\n",
       "    </tr>\n",
       "    <tr>\n",
       "      <th>ManOfMach</th>\n",
       "      <td>0.60</td>\n",
       "    </tr>\n",
       "    <tr>\n",
       "      <th>Win_Margin</th>\n",
       "      <td>0.00</td>\n",
       "    </tr>\n",
       "    <tr>\n",
       "      <th>Country_id</th>\n",
       "      <td>0.13</td>\n",
       "    </tr>\n",
       "  </tbody>\n",
       "</table>\n",
       "</div>"
      ],
      "text/plain": [
       "              match_winner\n",
       "Team1                 0.46\n",
       "Team2                 0.42\n",
       "Season_Year           0.22\n",
       "City_Name             0.38\n",
       "Country_Name          0.13\n",
       "Toss_Winner           0.49\n",
       "match_winner          1.00\n",
       "Toss_Name             0.22\n",
       "Win_Type              0.06\n",
       "Outcome_Type          0.00\n",
       "ManOfMach             0.60\n",
       "Win_Margin            0.00\n",
       "Country_id            0.13"
      ]
     },
     "execution_count": 116,
     "metadata": {},
     "output_type": "execute_result"
    }
   ],
   "source": [
    "rows= []\n",
    "\n",
    "for var1 in df1:\n",
    "    col = []\n",
    "    cramers =cramers_v(df1[var1], df1['match_winner']) # Cramer's V test\n",
    "    col.append(round(cramers,2)) # Keeping of the rounded value of the Cramer's V  \n",
    "    rows.append(col)\n",
    "\n",
    "cramers_results = np.array(rows)\n",
    "df2 = pd.DataFrame(cramers_results, columns = ['match_winner'], index =df1.columns)\n",
    "df2"
   ]
  },
  {
   "cell_type": "code",
   "execution_count": 117,
   "metadata": {},
   "outputs": [
    {
     "data": {
      "text/html": [
       "<div>\n",
       "<style scoped>\n",
       "    .dataframe tbody tr th:only-of-type {\n",
       "        vertical-align: middle;\n",
       "    }\n",
       "\n",
       "    .dataframe tbody tr th {\n",
       "        vertical-align: top;\n",
       "    }\n",
       "\n",
       "    .dataframe thead th {\n",
       "        text-align: right;\n",
       "    }\n",
       "</style>\n",
       "<table border=\"1\" class=\"dataframe\">\n",
       "  <thead>\n",
       "    <tr style=\"text-align: right;\">\n",
       "      <th></th>\n",
       "      <th>Team1</th>\n",
       "      <th>Team2</th>\n",
       "      <th>Season_Year</th>\n",
       "      <th>City_Name</th>\n",
       "      <th>Country_Name</th>\n",
       "      <th>Toss_Winner</th>\n",
       "      <th>match_winner</th>\n",
       "      <th>Toss_Name</th>\n",
       "      <th>Win_Type</th>\n",
       "      <th>Outcome_Type</th>\n",
       "      <th>ManOfMach</th>\n",
       "      <th>Win_Margin</th>\n",
       "      <th>Country_id</th>\n",
       "    </tr>\n",
       "  </thead>\n",
       "  <tbody>\n",
       "    <tr>\n",
       "      <th>Team1</th>\n",
       "      <td>1.00</td>\n",
       "      <td>0.01</td>\n",
       "      <td>0.22</td>\n",
       "      <td>0.78</td>\n",
       "      <td>0.16</td>\n",
       "      <td>0.44</td>\n",
       "      <td>0.46</td>\n",
       "      <td>0.25</td>\n",
       "      <td>0.00</td>\n",
       "      <td>0.00</td>\n",
       "      <td>0.26</td>\n",
       "      <td>0.00</td>\n",
       "      <td>0.16</td>\n",
       "    </tr>\n",
       "    <tr>\n",
       "      <th>Team2</th>\n",
       "      <td>0.01</td>\n",
       "      <td>1.00</td>\n",
       "      <td>0.21</td>\n",
       "      <td>0.00</td>\n",
       "      <td>0.10</td>\n",
       "      <td>0.47</td>\n",
       "      <td>0.42</td>\n",
       "      <td>0.11</td>\n",
       "      <td>0.11</td>\n",
       "      <td>0.00</td>\n",
       "      <td>0.25</td>\n",
       "      <td>0.00</td>\n",
       "      <td>0.10</td>\n",
       "    </tr>\n",
       "    <tr>\n",
       "      <th>Season_Year</th>\n",
       "      <td>0.22</td>\n",
       "      <td>0.21</td>\n",
       "      <td>1.00</td>\n",
       "      <td>0.45</td>\n",
       "      <td>0.80</td>\n",
       "      <td>0.22</td>\n",
       "      <td>0.22</td>\n",
       "      <td>0.30</td>\n",
       "      <td>0.00</td>\n",
       "      <td>0.00</td>\n",
       "      <td>0.29</td>\n",
       "      <td>0.03</td>\n",
       "      <td>0.80</td>\n",
       "    </tr>\n",
       "    <tr>\n",
       "      <th>City_Name</th>\n",
       "      <td>0.78</td>\n",
       "      <td>0.00</td>\n",
       "      <td>0.45</td>\n",
       "      <td>1.00</td>\n",
       "      <td>0.98</td>\n",
       "      <td>0.30</td>\n",
       "      <td>0.38</td>\n",
       "      <td>0.26</td>\n",
       "      <td>0.16</td>\n",
       "      <td>0.00</td>\n",
       "      <td>0.19</td>\n",
       "      <td>0.01</td>\n",
       "      <td>0.98</td>\n",
       "    </tr>\n",
       "    <tr>\n",
       "      <th>Country_Name</th>\n",
       "      <td>0.16</td>\n",
       "      <td>0.10</td>\n",
       "      <td>0.80</td>\n",
       "      <td>0.98</td>\n",
       "      <td>1.00</td>\n",
       "      <td>0.08</td>\n",
       "      <td>0.13</td>\n",
       "      <td>0.10</td>\n",
       "      <td>0.00</td>\n",
       "      <td>0.06</td>\n",
       "      <td>0.23</td>\n",
       "      <td>0.16</td>\n",
       "      <td>1.00</td>\n",
       "    </tr>\n",
       "  </tbody>\n",
       "</table>\n",
       "</div>"
      ],
      "text/plain": [
       "              Team1  Team2  Season_Year  City_Name  Country_Name  Toss_Winner  \\\n",
       "Team1          1.00   0.01         0.22       0.78          0.16         0.44   \n",
       "Team2          0.01   1.00         0.21       0.00          0.10         0.47   \n",
       "Season_Year    0.22   0.21         1.00       0.45          0.80         0.22   \n",
       "City_Name      0.78   0.00         0.45       1.00          0.98         0.30   \n",
       "Country_Name   0.16   0.10         0.80       0.98          1.00         0.08   \n",
       "\n",
       "              match_winner  Toss_Name  Win_Type  Outcome_Type  ManOfMach  \\\n",
       "Team1                 0.46       0.25      0.00          0.00       0.26   \n",
       "Team2                 0.42       0.11      0.11          0.00       0.25   \n",
       "Season_Year           0.22       0.30      0.00          0.00       0.29   \n",
       "City_Name             0.38       0.26      0.16          0.00       0.19   \n",
       "Country_Name          0.13       0.10      0.00          0.06       0.23   \n",
       "\n",
       "              Win_Margin  Country_id  \n",
       "Team1               0.00        0.16  \n",
       "Team2               0.00        0.10  \n",
       "Season_Year         0.03        0.80  \n",
       "City_Name           0.01        0.98  \n",
       "Country_Name        0.16        1.00  "
      ]
     },
     "execution_count": 117,
     "metadata": {},
     "output_type": "execute_result"
    }
   ],
   "source": [
    "rows= []\n",
    "\n",
    "for var1 in df1:\n",
    "    col = []\n",
    "    for var2 in df1:\n",
    "        cramers =cramers_v(df1[var1], df1[var2]) # Cramer's V test\n",
    "        col.append(round(cramers,2)) # Keeping of the rounded value of the Cramer's V  \n",
    "    rows.append(col)\n",
    "\n",
    "cramers_results = np.array(rows)\n",
    "df2 = pd.DataFrame(cramers_results, columns = df1.columns, index =df1.columns)\n",
    "df2.head()"
   ]
  },
  {
   "cell_type": "code",
   "execution_count": 118,
   "metadata": {},
   "outputs": [
    {
     "data": {
      "text/plain": [
       "{'Team1': 0.7267,\n",
       " 'Team2': 0.5545,\n",
       " 'Season_Year': 0.2883,\n",
       " 'City_Name': 0.7151,\n",
       " 'Country_Name': 0.0411,\n",
       " 'Toss_Winner': 0.7049,\n",
       " 'match_winner': 2.3558,\n",
       " 'Toss_Name': 0.0357,\n",
       " 'Win_Type': 0.034,\n",
       " 'Outcome_Type': 0.0094,\n",
       " 'ManOfMach': 1.979,\n",
       " 'Win_Margin': 0.5218,\n",
       " 'Country_id': 0.0411}"
      ]
     },
     "execution_count": 118,
     "metadata": {},
     "output_type": "execute_result"
    }
   ],
   "source": [
    "info={}\n",
    "from info_gain import info_gain\n",
    "for var1 in df1.columns:\n",
    "    info[var1]=round(info_gain.info_gain(df1[var1],df1['match_winner']),4)\n",
    "info"
   ]
  },
  {
   "cell_type": "code",
   "execution_count": 119,
   "metadata": {},
   "outputs": [
    {
     "name": "stdout",
     "output_type": "stream",
     "text": [
      "{0: 'Chennai Super Kings', 1: 'Deccan Chargers', 2: 'Delhi Daredevils', 3: 'Gujarat Lions', 4: 'Kings XI Punjab', 5: 'Kochi Tuskers Kerala', 6: 'Kolkata Knight Riders', 7: 'Mumbai Indians', 8: 'Pune Warriors', 9: 'Rajasthan Royals', 10: 'Rising Pune Supergiants', 11: 'Royal Challengers Bangalore', 12: 'Sunrisers Hyderabad'}\n"
     ]
    }
   ],
   "source": [
    "c = df1.Team1.astype('category')\n",
    "d = dict(enumerate(c.cat.categories))\n",
    "print(d)"
   ]
  },
  {
   "cell_type": "code",
   "execution_count": 120,
   "metadata": {},
   "outputs": [
    {
     "name": "stdout",
     "output_type": "stream",
     "text": [
      "Team1            int8\n",
      "Team2            int8\n",
      "Season_Year     int64\n",
      "City_Name        int8\n",
      "Country_Name     int8\n",
      "Toss_Winner      int8\n",
      "match_winner     int8\n",
      "Toss_Name        int8\n",
      "Win_Type         int8\n",
      "Outcome_Type     int8\n",
      "ManOfMach       int16\n",
      "Win_Margin      int64\n",
      "Country_id      int64\n",
      "dtype: object\n"
     ]
    },
    {
     "data": {
      "text/html": [
       "<div>\n",
       "<style scoped>\n",
       "    .dataframe tbody tr th:only-of-type {\n",
       "        vertical-align: middle;\n",
       "    }\n",
       "\n",
       "    .dataframe tbody tr th {\n",
       "        vertical-align: top;\n",
       "    }\n",
       "\n",
       "    .dataframe thead th {\n",
       "        text-align: right;\n",
       "    }\n",
       "</style>\n",
       "<table border=\"1\" class=\"dataframe\">\n",
       "  <thead>\n",
       "    <tr style=\"text-align: right;\">\n",
       "      <th></th>\n",
       "      <th>Team1</th>\n",
       "      <th>Team2</th>\n",
       "      <th>Season_Year</th>\n",
       "      <th>City_Name</th>\n",
       "      <th>Country_Name</th>\n",
       "      <th>Toss_Winner</th>\n",
       "      <th>match_winner</th>\n",
       "      <th>Toss_Name</th>\n",
       "      <th>Win_Type</th>\n",
       "      <th>Outcome_Type</th>\n",
       "      <th>ManOfMach</th>\n",
       "      <th>Win_Margin</th>\n",
       "      <th>Country_id</th>\n",
       "    </tr>\n",
       "  </thead>\n",
       "  <tbody>\n",
       "    <tr>\n",
       "      <th>0</th>\n",
       "      <td>11</td>\n",
       "      <td>6</td>\n",
       "      <td>2016</td>\n",
       "      <td>2</td>\n",
       "      <td>0</td>\n",
       "      <td>6</td>\n",
       "      <td>6</td>\n",
       "      <td>1</td>\n",
       "      <td>3</td>\n",
       "      <td>0</td>\n",
       "      <td>14</td>\n",
       "      <td>5</td>\n",
       "      <td>1</td>\n",
       "    </tr>\n",
       "    <tr>\n",
       "      <th>1</th>\n",
       "      <td>3</td>\n",
       "      <td>2</td>\n",
       "      <td>2016</td>\n",
       "      <td>29</td>\n",
       "      <td>0</td>\n",
       "      <td>2</td>\n",
       "      <td>2</td>\n",
       "      <td>1</td>\n",
       "      <td>3</td>\n",
       "      <td>0</td>\n",
       "      <td>152</td>\n",
       "      <td>8</td>\n",
       "      <td>1</td>\n",
       "    </tr>\n",
       "    <tr>\n",
       "      <th>2</th>\n",
       "      <td>6</td>\n",
       "      <td>4</td>\n",
       "      <td>2016</td>\n",
       "      <td>22</td>\n",
       "      <td>0</td>\n",
       "      <td>4</td>\n",
       "      <td>6</td>\n",
       "      <td>1</td>\n",
       "      <td>2</td>\n",
       "      <td>0</td>\n",
       "      <td>14</td>\n",
       "      <td>7</td>\n",
       "      <td>1</td>\n",
       "    </tr>\n",
       "    <tr>\n",
       "      <th>3</th>\n",
       "      <td>2</td>\n",
       "      <td>10</td>\n",
       "      <td>2016</td>\n",
       "      <td>10</td>\n",
       "      <td>0</td>\n",
       "      <td>11</td>\n",
       "      <td>10</td>\n",
       "      <td>1</td>\n",
       "      <td>3</td>\n",
       "      <td>0</td>\n",
       "      <td>17</td>\n",
       "      <td>7</td>\n",
       "      <td>1</td>\n",
       "    </tr>\n",
       "    <tr>\n",
       "      <th>4</th>\n",
       "      <td>12</td>\n",
       "      <td>3</td>\n",
       "      <td>2016</td>\n",
       "      <td>14</td>\n",
       "      <td>0</td>\n",
       "      <td>13</td>\n",
       "      <td>12</td>\n",
       "      <td>1</td>\n",
       "      <td>3</td>\n",
       "      <td>0</td>\n",
       "      <td>22</td>\n",
       "      <td>5</td>\n",
       "      <td>1</td>\n",
       "    </tr>\n",
       "  </tbody>\n",
       "</table>\n",
       "</div>"
      ],
      "text/plain": [
       "   Team1  Team2  Season_Year  City_Name  Country_Name  Toss_Winner  \\\n",
       "0     11      6         2016          2             0            6   \n",
       "1      3      2         2016         29             0            2   \n",
       "2      6      4         2016         22             0            4   \n",
       "3      2     10         2016         10             0           11   \n",
       "4     12      3         2016         14             0           13   \n",
       "\n",
       "   match_winner  Toss_Name  Win_Type  Outcome_Type  ManOfMach  Win_Margin  \\\n",
       "0             6          1         3             0         14           5   \n",
       "1             2          1         3             0        152           8   \n",
       "2             6          1         2             0         14           7   \n",
       "3            10          1         3             0         17           7   \n",
       "4            12          1         3             0         22           5   \n",
       "\n",
       "   Country_id  \n",
       "0           1  \n",
       "1           1  \n",
       "2           1  \n",
       "3           1  \n",
       "4           1  "
      ]
     },
     "execution_count": 120,
     "metadata": {},
     "output_type": "execute_result"
    }
   ],
   "source": [
    "for var1 in df1.columns:\n",
    "    if df1[var1].dtype == 'object':\n",
    "        df1[var1]=df1[var1].astype('category').cat.codes\n",
    "print(df1.dtypes)\n",
    "df1.head()"
   ]
  },
  {
   "cell_type": "code",
   "execution_count": 121,
   "metadata": {},
   "outputs": [],
   "source": [
    "Y=df1['match_winner']\n",
    "X=df1.drop(['match_winner'],axis=1)"
   ]
  },
  {
   "cell_type": "code",
   "execution_count": 122,
   "metadata": {},
   "outputs": [
    {
     "data": {
      "text/plain": [
       "('Team1',\n",
       " 'Team2',\n",
       " 'Country_Name',\n",
       " 'Toss_Winner',\n",
       " 'Toss_Name',\n",
       " 'Win_Type',\n",
       " 'Outcome_Type',\n",
       " 'Country_id')"
      ]
     },
     "execution_count": 122,
     "metadata": {},
     "output_type": "execute_result"
    }
   ],
   "source": [
    "from mlxtend.feature_selection import SequentialFeatureSelector as SFS\n",
    "from sklearn.tree import DecisionTreeClassifier\n",
    "from sklearn.naive_bayes import GaussianNB,CategoricalNB\n",
    "# Sequential Forward Selection(sfs)\n",
    "sfs = SFS(DecisionTreeClassifier(criterion='entropy'),\n",
    "           k_features=8,\n",
    "           forward=False,\n",
    "           floating=False,\n",
    "           scoring = 'accuracy',\n",
    "           cv = 6)\n",
    "sfs.fit(X, Y)\n",
    "sfs.k_feature_names_"
   ]
  },
  {
   "cell_type": "code",
   "execution_count": 123,
   "metadata": {},
   "outputs": [
    {
     "data": {
      "text/plain": [
       "('Team1',\n",
       " 'Team2',\n",
       " 'Season_Year',\n",
       " 'City_Name',\n",
       " 'Toss_Winner',\n",
       " 'Toss_Name',\n",
       " 'Win_Type',\n",
       " 'ManOfMach')"
      ]
     },
     "execution_count": 123,
     "metadata": {},
     "output_type": "execute_result"
    }
   ],
   "source": [
    "sfs = SFS(GaussianNB(),\n",
    "           k_features=8,\n",
    "           forward=False,\n",
    "           floating=False,\n",
    "           scoring = 'accuracy',\n",
    "           cv = 6)\n",
    "sfs.fit(X, Y)\n",
    "sfs.k_feature_names_"
   ]
  },
  {
   "cell_type": "code",
   "execution_count": 124,
   "metadata": {},
   "outputs": [
    {
     "data": {
      "text/plain": [
       "('Team1',\n",
       " 'City_Name',\n",
       " 'Country_Name',\n",
       " 'Toss_Winner',\n",
       " 'Toss_Name',\n",
       " 'Win_Type',\n",
       " 'Outcome_Type',\n",
       " 'Country_id')"
      ]
     },
     "execution_count": 124,
     "metadata": {},
     "output_type": "execute_result"
    }
   ],
   "source": [
    "from sklearn.neighbors import KNeighborsClassifier\n",
    "sfs = SFS(KNeighborsClassifier(n_neighbors=10),\n",
    "           k_features=8,\n",
    "           forward=False,\n",
    "           floating=False,\n",
    "           scoring = 'accuracy',\n",
    "           cv = 6)\n",
    "sfs.fit(X, Y)\n",
    "sfs.k_feature_names_"
   ]
  },
  {
   "cell_type": "code",
   "execution_count": 125,
   "metadata": {},
   "outputs": [
    {
     "data": {
      "text/plain": [
       "Index(['Team2', 'Win_Margin', 'Toss_Winner', 'Team1', 'City_Name',\n",
       "       'Season_Year', 'Win_Type', 'Toss_Name', 'Country_id'],\n",
       "      dtype='object')"
      ]
     },
     "execution_count": 125,
     "metadata": {},
     "output_type": "execute_result"
    }
   ],
   "source": [
    "from ReliefF import ReliefF\n",
    "fs = ReliefF(n_neighbors=10, n_features_to_keep=9)\n",
    "X_new=fs.fit_transform(np.asarray(X),np.asarray(Y))\n",
    "rel_data=pd.DataFrame(data=X_new)\n",
    "rel_data.columns"
   ]
  },
  {
   "cell_type": "markdown",
   "metadata": {},
   "source": [
    "# Extracting Feature Subsets"
   ]
  },
  {
   "cell_type": "code",
   "execution_count": 344,
   "metadata": {},
   "outputs": [
    {
     "data": {
      "text/html": [
       "<div>\n",
       "<style scoped>\n",
       "    .dataframe tbody tr th:only-of-type {\n",
       "        vertical-align: middle;\n",
       "    }\n",
       "\n",
       "    .dataframe tbody tr th {\n",
       "        vertical-align: top;\n",
       "    }\n",
       "\n",
       "    .dataframe thead th {\n",
       "        text-align: right;\n",
       "    }\n",
       "</style>\n",
       "<table border=\"1\" class=\"dataframe\">\n",
       "  <thead>\n",
       "    <tr style=\"text-align: right;\">\n",
       "      <th></th>\n",
       "      <th>Team1</th>\n",
       "      <th>Team2</th>\n",
       "      <th>City_Name</th>\n",
       "      <th>Season_Year</th>\n",
       "      <th>Toss_Winner</th>\n",
       "      <th>Win_Type</th>\n",
       "      <th>Outcome_Type</th>\n",
       "      <th>match_winner</th>\n",
       "    </tr>\n",
       "  </thead>\n",
       "  <tbody>\n",
       "    <tr>\n",
       "      <th>0</th>\n",
       "      <td>Royal Challengers Bangalore</td>\n",
       "      <td>Kolkata Knight Riders</td>\n",
       "      <td>Bangalore</td>\n",
       "      <td>2016</td>\n",
       "      <td>Kolkata Knight Riders</td>\n",
       "      <td>wickets</td>\n",
       "      <td>Result</td>\n",
       "      <td>Kolkata Knight Riders</td>\n",
       "    </tr>\n",
       "    <tr>\n",
       "      <th>1</th>\n",
       "      <td>Gujarat Lions</td>\n",
       "      <td>Delhi Daredevils</td>\n",
       "      <td>Rajkot</td>\n",
       "      <td>2016</td>\n",
       "      <td>Delhi Daredevils</td>\n",
       "      <td>wickets</td>\n",
       "      <td>Result</td>\n",
       "      <td>Delhi Daredevils</td>\n",
       "    </tr>\n",
       "    <tr>\n",
       "      <th>2</th>\n",
       "      <td>Kolkata Knight Riders</td>\n",
       "      <td>Kings XI Punjab</td>\n",
       "      <td>Kolkata</td>\n",
       "      <td>2016</td>\n",
       "      <td>Kings XI Punjab</td>\n",
       "      <td>runs</td>\n",
       "      <td>Result</td>\n",
       "      <td>Kolkata Knight Riders</td>\n",
       "    </tr>\n",
       "    <tr>\n",
       "      <th>3</th>\n",
       "      <td>Delhi Daredevils</td>\n",
       "      <td>Rising Pune Supergiants</td>\n",
       "      <td>Delhi</td>\n",
       "      <td>2016</td>\n",
       "      <td>Rising Pune Supergiants</td>\n",
       "      <td>wickets</td>\n",
       "      <td>Result</td>\n",
       "      <td>Rising Pune Supergiants</td>\n",
       "    </tr>\n",
       "    <tr>\n",
       "      <th>4</th>\n",
       "      <td>Sunrisers Hyderabad</td>\n",
       "      <td>Gujarat Lions</td>\n",
       "      <td>Hyderabad</td>\n",
       "      <td>2016</td>\n",
       "      <td>Sunrisers Hyderabad</td>\n",
       "      <td>wickets</td>\n",
       "      <td>Result</td>\n",
       "      <td>Sunrisers Hyderabad</td>\n",
       "    </tr>\n",
       "  </tbody>\n",
       "</table>\n",
       "</div>"
      ],
      "text/plain": [
       "                         Team1                    Team2  City_Name  \\\n",
       "0  Royal Challengers Bangalore    Kolkata Knight Riders  Bangalore   \n",
       "1                Gujarat Lions         Delhi Daredevils     Rajkot   \n",
       "2        Kolkata Knight Riders          Kings XI Punjab    Kolkata   \n",
       "3             Delhi Daredevils  Rising Pune Supergiants      Delhi   \n",
       "4          Sunrisers Hyderabad            Gujarat Lions  Hyderabad   \n",
       "\n",
       "   Season_Year              Toss_Winner Win_Type Outcome_Type  \\\n",
       "0         2016    Kolkata Knight Riders  wickets       Result   \n",
       "1         2016         Delhi Daredevils  wickets       Result   \n",
       "2         2016          Kings XI Punjab     runs       Result   \n",
       "3         2016  Rising Pune Supergiants  wickets       Result   \n",
       "4         2016      Sunrisers Hyderabad  wickets       Result   \n",
       "\n",
       "              match_winner  \n",
       "0    Kolkata Knight Riders  \n",
       "1         Delhi Daredevils  \n",
       "2    Kolkata Knight Riders  \n",
       "3  Rising Pune Supergiants  \n",
       "4      Sunrisers Hyderabad  "
      ]
     },
     "execution_count": 344,
     "metadata": {},
     "output_type": "execute_result"
    }
   ],
   "source": [
    "df_feature=df_copy[['Team1','Team2','City_Name','Season_Year','Toss_Winner','Win_Type','Outcome_Type','match_winner']]\n",
    "df_feature.head()"
   ]
  },
  {
   "cell_type": "code",
   "execution_count": 284,
   "metadata": {},
   "outputs": [
    {
     "data": {
      "text/html": [
       "<div>\n",
       "<style scoped>\n",
       "    .dataframe tbody tr th:only-of-type {\n",
       "        vertical-align: middle;\n",
       "    }\n",
       "\n",
       "    .dataframe tbody tr th {\n",
       "        vertical-align: top;\n",
       "    }\n",
       "\n",
       "    .dataframe thead th {\n",
       "        text-align: right;\n",
       "    }\n",
       "</style>\n",
       "<table border=\"1\" class=\"dataframe\">\n",
       "  <thead>\n",
       "    <tr style=\"text-align: right;\">\n",
       "      <th></th>\n",
       "      <th>Team1</th>\n",
       "      <th>Team2</th>\n",
       "      <th>City_Name</th>\n",
       "      <th>Season_Year</th>\n",
       "      <th>Toss_Winner</th>\n",
       "      <th>Win_Type</th>\n",
       "      <th>Outcome_Type</th>\n",
       "      <th>match_winner</th>\n",
       "      <th>Result</th>\n",
       "    </tr>\n",
       "  </thead>\n",
       "  <tbody>\n",
       "    <tr>\n",
       "      <th>0</th>\n",
       "      <td>Royal Challengers Bangalore</td>\n",
       "      <td>Kolkata Knight Riders</td>\n",
       "      <td>Bangalore</td>\n",
       "      <td>2016</td>\n",
       "      <td>Kolkata Knight Riders</td>\n",
       "      <td>wickets</td>\n",
       "      <td>Result</td>\n",
       "      <td>Kolkata Knight Riders</td>\n",
       "      <td>0.0</td>\n",
       "    </tr>\n",
       "    <tr>\n",
       "      <th>1</th>\n",
       "      <td>Gujarat Lions</td>\n",
       "      <td>Delhi Daredevils</td>\n",
       "      <td>Rajkot</td>\n",
       "      <td>2016</td>\n",
       "      <td>Delhi Daredevils</td>\n",
       "      <td>wickets</td>\n",
       "      <td>Result</td>\n",
       "      <td>Delhi Daredevils</td>\n",
       "      <td>0.0</td>\n",
       "    </tr>\n",
       "    <tr>\n",
       "      <th>2</th>\n",
       "      <td>Kolkata Knight Riders</td>\n",
       "      <td>Kings XI Punjab</td>\n",
       "      <td>Kolkata</td>\n",
       "      <td>2016</td>\n",
       "      <td>Kings XI Punjab</td>\n",
       "      <td>runs</td>\n",
       "      <td>Result</td>\n",
       "      <td>Kolkata Knight Riders</td>\n",
       "      <td>1.0</td>\n",
       "    </tr>\n",
       "    <tr>\n",
       "      <th>3</th>\n",
       "      <td>Delhi Daredevils</td>\n",
       "      <td>Rising Pune Supergiants</td>\n",
       "      <td>Delhi</td>\n",
       "      <td>2016</td>\n",
       "      <td>Rising Pune Supergiants</td>\n",
       "      <td>wickets</td>\n",
       "      <td>Result</td>\n",
       "      <td>Rising Pune Supergiants</td>\n",
       "      <td>0.0</td>\n",
       "    </tr>\n",
       "    <tr>\n",
       "      <th>4</th>\n",
       "      <td>Sunrisers Hyderabad</td>\n",
       "      <td>Gujarat Lions</td>\n",
       "      <td>Hyderabad</td>\n",
       "      <td>2016</td>\n",
       "      <td>Sunrisers Hyderabad</td>\n",
       "      <td>wickets</td>\n",
       "      <td>Result</td>\n",
       "      <td>Sunrisers Hyderabad</td>\n",
       "      <td>1.0</td>\n",
       "    </tr>\n",
       "  </tbody>\n",
       "</table>\n",
       "</div>"
      ],
      "text/plain": [
       "                         Team1                    Team2  City_Name  \\\n",
       "0  Royal Challengers Bangalore    Kolkata Knight Riders  Bangalore   \n",
       "1                Gujarat Lions         Delhi Daredevils     Rajkot   \n",
       "2        Kolkata Knight Riders          Kings XI Punjab    Kolkata   \n",
       "3             Delhi Daredevils  Rising Pune Supergiants      Delhi   \n",
       "4          Sunrisers Hyderabad            Gujarat Lions  Hyderabad   \n",
       "\n",
       "   Season_Year              Toss_Winner Win_Type Outcome_Type  \\\n",
       "0         2016    Kolkata Knight Riders  wickets       Result   \n",
       "1         2016         Delhi Daredevils  wickets       Result   \n",
       "2         2016          Kings XI Punjab     runs       Result   \n",
       "3         2016  Rising Pune Supergiants  wickets       Result   \n",
       "4         2016      Sunrisers Hyderabad  wickets       Result   \n",
       "\n",
       "              match_winner  Result  \n",
       "0    Kolkata Knight Riders     0.0  \n",
       "1         Delhi Daredevils     0.0  \n",
       "2    Kolkata Knight Riders     1.0  \n",
       "3  Rising Pune Supergiants     0.0  \n",
       "4      Sunrisers Hyderabad     1.0  "
      ]
     },
     "execution_count": 284,
     "metadata": {},
     "output_type": "execute_result"
    }
   ],
   "source": [
    "df_home=df_feature.copy()\n",
    "df_home.loc[df_home['Team1']==df_home['match_winner'],'Result']=1\n",
    "df_home.loc[df_home['Team1']!=df_home['match_winner'],'Result']=0\n",
    "df_home.head()"
   ]
  },
  {
   "cell_type": "code",
   "execution_count": 285,
   "metadata": {},
   "outputs": [
    {
     "data": {
      "text/html": [
       "<div>\n",
       "<style scoped>\n",
       "    .dataframe tbody tr th:only-of-type {\n",
       "        vertical-align: middle;\n",
       "    }\n",
       "\n",
       "    .dataframe tbody tr th {\n",
       "        vertical-align: top;\n",
       "    }\n",
       "\n",
       "    .dataframe thead th {\n",
       "        text-align: right;\n",
       "    }\n",
       "</style>\n",
       "<table border=\"1\" class=\"dataframe\">\n",
       "  <thead>\n",
       "    <tr style=\"text-align: right;\">\n",
       "      <th></th>\n",
       "      <th>Team1</th>\n",
       "      <th>Team2</th>\n",
       "      <th>City_Name</th>\n",
       "      <th>Season_Year</th>\n",
       "      <th>Win_Type</th>\n",
       "      <th>Outcome_Type</th>\n",
       "      <th>Result</th>\n",
       "    </tr>\n",
       "  </thead>\n",
       "  <tbody>\n",
       "    <tr>\n",
       "      <th>0</th>\n",
       "      <td>Royal Challengers Bangalore</td>\n",
       "      <td>Kolkata Knight Riders</td>\n",
       "      <td>Bangalore</td>\n",
       "      <td>2016</td>\n",
       "      <td>wickets</td>\n",
       "      <td>Result</td>\n",
       "      <td>0.0</td>\n",
       "    </tr>\n",
       "    <tr>\n",
       "      <th>1</th>\n",
       "      <td>Gujarat Lions</td>\n",
       "      <td>Delhi Daredevils</td>\n",
       "      <td>Rajkot</td>\n",
       "      <td>2016</td>\n",
       "      <td>wickets</td>\n",
       "      <td>Result</td>\n",
       "      <td>0.0</td>\n",
       "    </tr>\n",
       "    <tr>\n",
       "      <th>2</th>\n",
       "      <td>Kolkata Knight Riders</td>\n",
       "      <td>Kings XI Punjab</td>\n",
       "      <td>Kolkata</td>\n",
       "      <td>2016</td>\n",
       "      <td>runs</td>\n",
       "      <td>Result</td>\n",
       "      <td>1.0</td>\n",
       "    </tr>\n",
       "    <tr>\n",
       "      <th>3</th>\n",
       "      <td>Delhi Daredevils</td>\n",
       "      <td>Rising Pune Supergiants</td>\n",
       "      <td>Delhi</td>\n",
       "      <td>2016</td>\n",
       "      <td>wickets</td>\n",
       "      <td>Result</td>\n",
       "      <td>0.0</td>\n",
       "    </tr>\n",
       "    <tr>\n",
       "      <th>4</th>\n",
       "      <td>Sunrisers Hyderabad</td>\n",
       "      <td>Gujarat Lions</td>\n",
       "      <td>Hyderabad</td>\n",
       "      <td>2016</td>\n",
       "      <td>wickets</td>\n",
       "      <td>Result</td>\n",
       "      <td>1.0</td>\n",
       "    </tr>\n",
       "  </tbody>\n",
       "</table>\n",
       "</div>"
      ],
      "text/plain": [
       "                         Team1                    Team2  City_Name  \\\n",
       "0  Royal Challengers Bangalore    Kolkata Knight Riders  Bangalore   \n",
       "1                Gujarat Lions         Delhi Daredevils     Rajkot   \n",
       "2        Kolkata Knight Riders          Kings XI Punjab    Kolkata   \n",
       "3             Delhi Daredevils  Rising Pune Supergiants      Delhi   \n",
       "4          Sunrisers Hyderabad            Gujarat Lions  Hyderabad   \n",
       "\n",
       "   Season_Year Win_Type Outcome_Type  Result  \n",
       "0         2016  wickets       Result     0.0  \n",
       "1         2016  wickets       Result     0.0  \n",
       "2         2016     runs       Result     1.0  \n",
       "3         2016  wickets       Result     0.0  \n",
       "4         2016  wickets       Result     1.0  "
      ]
     },
     "execution_count": 285,
     "metadata": {},
     "output_type": "execute_result"
    }
   ],
   "source": [
    "df_home=df_home.drop('Toss_Winner',axis=1)\n",
    "df_home=df_home.drop('match_winner',axis=1)\n",
    "df_home.head()"
   ]
  },
  {
   "cell_type": "code",
   "execution_count": 286,
   "metadata": {},
   "outputs": [
    {
     "data": {
      "text/html": [
       "<div>\n",
       "<style scoped>\n",
       "    .dataframe tbody tr th:only-of-type {\n",
       "        vertical-align: middle;\n",
       "    }\n",
       "\n",
       "    .dataframe tbody tr th {\n",
       "        vertical-align: top;\n",
       "    }\n",
       "\n",
       "    .dataframe thead th {\n",
       "        text-align: right;\n",
       "    }\n",
       "</style>\n",
       "<table border=\"1\" class=\"dataframe\">\n",
       "  <thead>\n",
       "    <tr style=\"text-align: right;\">\n",
       "      <th></th>\n",
       "      <th>Team1</th>\n",
       "      <th>Team2</th>\n",
       "      <th>City_Name</th>\n",
       "      <th>Season_Year</th>\n",
       "      <th>Win_Type</th>\n",
       "      <th>Outcome_Type</th>\n",
       "      <th>Result</th>\n",
       "    </tr>\n",
       "  </thead>\n",
       "  <tbody>\n",
       "    <tr>\n",
       "      <th>0</th>\n",
       "      <td>11</td>\n",
       "      <td>6</td>\n",
       "      <td>2</td>\n",
       "      <td>2016</td>\n",
       "      <td>3</td>\n",
       "      <td>0</td>\n",
       "      <td>0.0</td>\n",
       "    </tr>\n",
       "    <tr>\n",
       "      <th>1</th>\n",
       "      <td>3</td>\n",
       "      <td>2</td>\n",
       "      <td>29</td>\n",
       "      <td>2016</td>\n",
       "      <td>3</td>\n",
       "      <td>0</td>\n",
       "      <td>0.0</td>\n",
       "    </tr>\n",
       "    <tr>\n",
       "      <th>2</th>\n",
       "      <td>6</td>\n",
       "      <td>4</td>\n",
       "      <td>22</td>\n",
       "      <td>2016</td>\n",
       "      <td>2</td>\n",
       "      <td>0</td>\n",
       "      <td>1.0</td>\n",
       "    </tr>\n",
       "    <tr>\n",
       "      <th>3</th>\n",
       "      <td>2</td>\n",
       "      <td>10</td>\n",
       "      <td>10</td>\n",
       "      <td>2016</td>\n",
       "      <td>3</td>\n",
       "      <td>0</td>\n",
       "      <td>0.0</td>\n",
       "    </tr>\n",
       "    <tr>\n",
       "      <th>4</th>\n",
       "      <td>12</td>\n",
       "      <td>3</td>\n",
       "      <td>14</td>\n",
       "      <td>2016</td>\n",
       "      <td>3</td>\n",
       "      <td>0</td>\n",
       "      <td>1.0</td>\n",
       "    </tr>\n",
       "  </tbody>\n",
       "</table>\n",
       "</div>"
      ],
      "text/plain": [
       "   Team1  Team2  City_Name  Season_Year  Win_Type  Outcome_Type  Result\n",
       "0     11      6          2         2016         3             0     0.0\n",
       "1      3      2         29         2016         3             0     0.0\n",
       "2      6      4         22         2016         2             0     1.0\n",
       "3      2     10         10         2016         3             0     0.0\n",
       "4     12      3         14         2016         3             0     1.0"
      ]
     },
     "execution_count": 286,
     "metadata": {},
     "output_type": "execute_result"
    }
   ],
   "source": [
    "for var1 in df_home.columns:\n",
    "    if df_home[var1].dtype == 'object':\n",
    "        df_home[var1]=df_home[var1].astype('category').cat.codes\n",
    "df_home.head()"
   ]
  },
  {
   "cell_type": "code",
   "execution_count": 133,
   "metadata": {},
   "outputs": [],
   "source": [
    "from sklearn.model_selection import StratifiedKFold\n",
    "from sklearn.metrics import accuracy_score,precision_score,recall_score\n",
    "from statistics import mean\n",
    "skf = StratifiedKFold(n_splits=10, shuffle=True, random_state=1)"
   ]
  },
  {
   "cell_type": "code",
   "execution_count": 134,
   "metadata": {},
   "outputs": [],
   "source": [
    "def misclassif(y_pred,y_test):\n",
    "    count=0\n",
    "    for (predicted,actual) in zip(y_pred,y_test):\n",
    "        if predicted!=actual:\n",
    "            count+=1\n",
    "    return count"
   ]
  },
  {
   "cell_type": "code",
   "execution_count": 208,
   "metadata": {},
   "outputs": [],
   "source": [
    "def calc_metric_home(model):\n",
    "    accuracy_stratified=[]\n",
    "    precision_stratified=[]\n",
    "    recall_stratified=[]\n",
    "    misclassified=0\n",
    "    x=df_home.drop('Result',axis=1)\n",
    "    y=df_home.Result\n",
    "    for train_index, test_index in skf.split(x, y): \n",
    "        x_train_fold, x_test_fold = x.iloc[train_index], x.iloc[test_index] \n",
    "        y_train_fold, y_test_fold = y.iloc[train_index], y.iloc[test_index]\n",
    "        X= x_train_fold\n",
    "        Y= y_train_fold\n",
    "        model.fit(X,Y)\n",
    "        y_pred=model.predict(x_test_fold)\n",
    "        misclassified+=misclassif(y_pred,y_test_fold)\n",
    "        accuracy_stratified.append(accuracy_score(y_test_fold,y_pred))\n",
    "        precision_stratified.append(precision_score(y_test_fold,y_pred,average='weighted',zero_division=1))\n",
    "        recall_stratified.append(recall_score(y_test_fold,y_pred,average='weighted',zero_division=1))\n",
    "    accuracy=mean(accuracy_stratified)*100\n",
    "    precision=mean(precision_stratified)*100\n",
    "    recall=mean(recall_stratified)*100\n",
    "    metrics={}\n",
    "    metrics['accuracy']=accuracy\n",
    "    metrics['precision']=precision\n",
    "    metrics['recall']=recall\n",
    "    metrics['misclassified']=misclassified\n",
    "    print(metrics)\n",
    "    return metrics"
   ]
  },
  {
   "cell_type": "code",
   "execution_count": 173,
   "metadata": {},
   "outputs": [],
   "source": [
    "from sklearn.naive_bayes import GaussianNB,CategoricalNB\n",
    "from sklearn.tree import DecisionTreeClassifier\n",
    "from sklearn.ensemble import RandomForestClassifier\n",
    "from sklearn.neighbors import KNeighborsClassifier\n",
    "models=[]\n",
    "model1=CategoricalNB()\n",
    "model2=DecisionTreeClassifier(criterion='entropy')\n",
    "model3=RandomForestClassifier()\n",
    "model4=KNeighborsClassifier(n_neighbors=10)\n",
    "models.append(model1)\n",
    "models.append(model2)\n",
    "models.append(model3)\n",
    "models.append(model4)"
   ]
  },
  {
   "cell_type": "code",
   "execution_count": 182,
   "metadata": {},
   "outputs": [
    {
     "name": "stdout",
     "output_type": "stream",
     "text": [
      "{'accuracy': 55.6969246031746, 'precision': 58.01056965294061, 'recall': 55.6969246031746, 'misclassified': 280}\n"
     ]
    }
   ],
   "source": [
    "#Naive Bayes\n",
    "hm_model1=calc_metric_home(model1)"
   ]
  },
  {
   "cell_type": "code",
   "execution_count": 188,
   "metadata": {},
   "outputs": [
    {
     "name": "stdout",
     "output_type": "stream",
     "text": [
      "{'accuracy': 52.85962301587301, 'precision': 56.1642070110998, 'recall': 64.70588235294117, 'misclassified': 298}\n"
     ]
    }
   ],
   "source": [
    "#Model Trees\n",
    "hm_model2=calc_metric_home(model2)"
   ]
  },
  {
   "cell_type": "code",
   "execution_count": 200,
   "metadata": {},
   "outputs": [
    {
     "name": "stdout",
     "output_type": "stream",
     "text": [
      "{'accuracy': 52.86210317460317, 'precision': 55.95833170453663, 'recall': 60.192697768762685, 'misclassified': 298}\n"
     ]
    }
   ],
   "source": [
    "#Random Forest\n",
    "hm_model3=calc_metric_home(model3)"
   ]
  },
  {
   "cell_type": "code",
   "execution_count": 209,
   "metadata": {},
   "outputs": [
    {
     "name": "stdout",
     "output_type": "stream",
     "text": [
      "{'accuracy': 52.22718253968254, 'precision': 52.397638220252894, 'recall': 52.22718253968254, 'misclassified': 302}\n"
     ]
    }
   ],
   "source": [
    "#KNN\n",
    "hm_model4=calc_metric_home(model4)"
   ]
  },
  {
   "cell_type": "code",
   "execution_count": 345,
   "metadata": {},
   "outputs": [
    {
     "data": {
      "text/html": [
       "<div>\n",
       "<style scoped>\n",
       "    .dataframe tbody tr th:only-of-type {\n",
       "        vertical-align: middle;\n",
       "    }\n",
       "\n",
       "    .dataframe tbody tr th {\n",
       "        vertical-align: top;\n",
       "    }\n",
       "\n",
       "    .dataframe thead th {\n",
       "        text-align: right;\n",
       "    }\n",
       "</style>\n",
       "<table border=\"1\" class=\"dataframe\">\n",
       "  <thead>\n",
       "    <tr style=\"text-align: right;\">\n",
       "      <th></th>\n",
       "      <th>Team1</th>\n",
       "      <th>Team2</th>\n",
       "      <th>City_Name</th>\n",
       "      <th>Season_Year</th>\n",
       "      <th>Toss_Winner</th>\n",
       "      <th>Win_Type</th>\n",
       "      <th>Outcome_Type</th>\n",
       "      <th>match_winner</th>\n",
       "      <th>Result</th>\n",
       "    </tr>\n",
       "  </thead>\n",
       "  <tbody>\n",
       "    <tr>\n",
       "      <th>0</th>\n",
       "      <td>Royal Challengers Bangalore</td>\n",
       "      <td>Kolkata Knight Riders</td>\n",
       "      <td>Bangalore</td>\n",
       "      <td>2016</td>\n",
       "      <td>Kolkata Knight Riders</td>\n",
       "      <td>wickets</td>\n",
       "      <td>Result</td>\n",
       "      <td>Kolkata Knight Riders</td>\n",
       "      <td>1.0</td>\n",
       "    </tr>\n",
       "    <tr>\n",
       "      <th>1</th>\n",
       "      <td>Gujarat Lions</td>\n",
       "      <td>Delhi Daredevils</td>\n",
       "      <td>Rajkot</td>\n",
       "      <td>2016</td>\n",
       "      <td>Delhi Daredevils</td>\n",
       "      <td>wickets</td>\n",
       "      <td>Result</td>\n",
       "      <td>Delhi Daredevils</td>\n",
       "      <td>1.0</td>\n",
       "    </tr>\n",
       "    <tr>\n",
       "      <th>2</th>\n",
       "      <td>Kolkata Knight Riders</td>\n",
       "      <td>Kings XI Punjab</td>\n",
       "      <td>Kolkata</td>\n",
       "      <td>2016</td>\n",
       "      <td>Kings XI Punjab</td>\n",
       "      <td>runs</td>\n",
       "      <td>Result</td>\n",
       "      <td>Kolkata Knight Riders</td>\n",
       "      <td>0.0</td>\n",
       "    </tr>\n",
       "    <tr>\n",
       "      <th>3</th>\n",
       "      <td>Delhi Daredevils</td>\n",
       "      <td>Rising Pune Supergiants</td>\n",
       "      <td>Delhi</td>\n",
       "      <td>2016</td>\n",
       "      <td>Rising Pune Supergiants</td>\n",
       "      <td>wickets</td>\n",
       "      <td>Result</td>\n",
       "      <td>Rising Pune Supergiants</td>\n",
       "      <td>1.0</td>\n",
       "    </tr>\n",
       "    <tr>\n",
       "      <th>4</th>\n",
       "      <td>Sunrisers Hyderabad</td>\n",
       "      <td>Gujarat Lions</td>\n",
       "      <td>Hyderabad</td>\n",
       "      <td>2016</td>\n",
       "      <td>Sunrisers Hyderabad</td>\n",
       "      <td>wickets</td>\n",
       "      <td>Result</td>\n",
       "      <td>Sunrisers Hyderabad</td>\n",
       "      <td>1.0</td>\n",
       "    </tr>\n",
       "  </tbody>\n",
       "</table>\n",
       "</div>"
      ],
      "text/plain": [
       "                         Team1                    Team2  City_Name  \\\n",
       "0  Royal Challengers Bangalore    Kolkata Knight Riders  Bangalore   \n",
       "1                Gujarat Lions         Delhi Daredevils     Rajkot   \n",
       "2        Kolkata Knight Riders          Kings XI Punjab    Kolkata   \n",
       "3             Delhi Daredevils  Rising Pune Supergiants      Delhi   \n",
       "4          Sunrisers Hyderabad            Gujarat Lions  Hyderabad   \n",
       "\n",
       "   Season_Year              Toss_Winner Win_Type Outcome_Type  \\\n",
       "0         2016    Kolkata Knight Riders  wickets       Result   \n",
       "1         2016         Delhi Daredevils  wickets       Result   \n",
       "2         2016          Kings XI Punjab     runs       Result   \n",
       "3         2016  Rising Pune Supergiants  wickets       Result   \n",
       "4         2016      Sunrisers Hyderabad  wickets       Result   \n",
       "\n",
       "              match_winner  Result  \n",
       "0    Kolkata Knight Riders     1.0  \n",
       "1         Delhi Daredevils     1.0  \n",
       "2    Kolkata Knight Riders     0.0  \n",
       "3  Rising Pune Supergiants     1.0  \n",
       "4      Sunrisers Hyderabad     1.0  "
      ]
     },
     "execution_count": 345,
     "metadata": {},
     "output_type": "execute_result"
    }
   ],
   "source": [
    "df_toss=df_feature.copy()\n",
    "df_toss.loc[df_toss['Toss_Winner']==df_toss['match_winner'],'Result']=1\n",
    "df_toss.loc[df_toss['Toss_Winner']!=df_toss['match_winner'],'Result']=0\n",
    "df_toss.head()"
   ]
  },
  {
   "cell_type": "code",
   "execution_count": 346,
   "metadata": {},
   "outputs": [
    {
     "data": {
      "text/html": [
       "<div>\n",
       "<style scoped>\n",
       "    .dataframe tbody tr th:only-of-type {\n",
       "        vertical-align: middle;\n",
       "    }\n",
       "\n",
       "    .dataframe tbody tr th {\n",
       "        vertical-align: top;\n",
       "    }\n",
       "\n",
       "    .dataframe thead th {\n",
       "        text-align: right;\n",
       "    }\n",
       "</style>\n",
       "<table border=\"1\" class=\"dataframe\">\n",
       "  <thead>\n",
       "    <tr style=\"text-align: right;\">\n",
       "      <th></th>\n",
       "      <th>Team1</th>\n",
       "      <th>Team2</th>\n",
       "      <th>City_Name</th>\n",
       "      <th>Season_Year</th>\n",
       "      <th>Toss_Winner</th>\n",
       "      <th>Win_Type</th>\n",
       "      <th>Outcome_Type</th>\n",
       "      <th>match_winner</th>\n",
       "      <th>Result</th>\n",
       "    </tr>\n",
       "  </thead>\n",
       "  <tbody>\n",
       "    <tr>\n",
       "      <th>0</th>\n",
       "      <td>11</td>\n",
       "      <td>6</td>\n",
       "      <td>2</td>\n",
       "      <td>2016</td>\n",
       "      <td>6</td>\n",
       "      <td>3</td>\n",
       "      <td>0</td>\n",
       "      <td>6</td>\n",
       "      <td>1.0</td>\n",
       "    </tr>\n",
       "    <tr>\n",
       "      <th>1</th>\n",
       "      <td>3</td>\n",
       "      <td>2</td>\n",
       "      <td>29</td>\n",
       "      <td>2016</td>\n",
       "      <td>2</td>\n",
       "      <td>3</td>\n",
       "      <td>0</td>\n",
       "      <td>2</td>\n",
       "      <td>1.0</td>\n",
       "    </tr>\n",
       "    <tr>\n",
       "      <th>2</th>\n",
       "      <td>6</td>\n",
       "      <td>4</td>\n",
       "      <td>22</td>\n",
       "      <td>2016</td>\n",
       "      <td>4</td>\n",
       "      <td>2</td>\n",
       "      <td>0</td>\n",
       "      <td>6</td>\n",
       "      <td>0.0</td>\n",
       "    </tr>\n",
       "    <tr>\n",
       "      <th>3</th>\n",
       "      <td>2</td>\n",
       "      <td>10</td>\n",
       "      <td>10</td>\n",
       "      <td>2016</td>\n",
       "      <td>11</td>\n",
       "      <td>3</td>\n",
       "      <td>0</td>\n",
       "      <td>10</td>\n",
       "      <td>1.0</td>\n",
       "    </tr>\n",
       "    <tr>\n",
       "      <th>4</th>\n",
       "      <td>12</td>\n",
       "      <td>3</td>\n",
       "      <td>14</td>\n",
       "      <td>2016</td>\n",
       "      <td>13</td>\n",
       "      <td>3</td>\n",
       "      <td>0</td>\n",
       "      <td>12</td>\n",
       "      <td>1.0</td>\n",
       "    </tr>\n",
       "  </tbody>\n",
       "</table>\n",
       "</div>"
      ],
      "text/plain": [
       "   Team1  Team2  City_Name  Season_Year  Toss_Winner  Win_Type  Outcome_Type  \\\n",
       "0     11      6          2         2016            6         3             0   \n",
       "1      3      2         29         2016            2         3             0   \n",
       "2      6      4         22         2016            4         2             0   \n",
       "3      2     10         10         2016           11         3             0   \n",
       "4     12      3         14         2016           13         3             0   \n",
       "\n",
       "   match_winner  Result  \n",
       "0             6     1.0  \n",
       "1             2     1.0  \n",
       "2             6     0.0  \n",
       "3            10     1.0  \n",
       "4            12     1.0  "
      ]
     },
     "execution_count": 346,
     "metadata": {},
     "output_type": "execute_result"
    }
   ],
   "source": [
    "for var1 in df_toss.columns:\n",
    "    if df_toss[var1].dtype == 'object':\n",
    "        df_toss[var1]=df_toss[var1].astype('category').cat.codes\n",
    "df_toss.head()"
   ]
  },
  {
   "cell_type": "code",
   "execution_count": 347,
   "metadata": {},
   "outputs": [
    {
     "data": {
      "text/html": [
       "<div>\n",
       "<style scoped>\n",
       "    .dataframe tbody tr th:only-of-type {\n",
       "        vertical-align: middle;\n",
       "    }\n",
       "\n",
       "    .dataframe tbody tr th {\n",
       "        vertical-align: top;\n",
       "    }\n",
       "\n",
       "    .dataframe thead th {\n",
       "        text-align: right;\n",
       "    }\n",
       "</style>\n",
       "<table border=\"1\" class=\"dataframe\">\n",
       "  <thead>\n",
       "    <tr style=\"text-align: right;\">\n",
       "      <th></th>\n",
       "      <th>Team1</th>\n",
       "      <th>Team2</th>\n",
       "      <th>City_Name</th>\n",
       "      <th>Season_Year</th>\n",
       "      <th>Win_Type</th>\n",
       "      <th>Outcome_Type</th>\n",
       "      <th>Result</th>\n",
       "    </tr>\n",
       "  </thead>\n",
       "  <tbody>\n",
       "    <tr>\n",
       "      <th>0</th>\n",
       "      <td>11</td>\n",
       "      <td>6</td>\n",
       "      <td>2</td>\n",
       "      <td>2016</td>\n",
       "      <td>3</td>\n",
       "      <td>0</td>\n",
       "      <td>1.0</td>\n",
       "    </tr>\n",
       "    <tr>\n",
       "      <th>1</th>\n",
       "      <td>3</td>\n",
       "      <td>2</td>\n",
       "      <td>29</td>\n",
       "      <td>2016</td>\n",
       "      <td>3</td>\n",
       "      <td>0</td>\n",
       "      <td>1.0</td>\n",
       "    </tr>\n",
       "    <tr>\n",
       "      <th>2</th>\n",
       "      <td>6</td>\n",
       "      <td>4</td>\n",
       "      <td>22</td>\n",
       "      <td>2016</td>\n",
       "      <td>2</td>\n",
       "      <td>0</td>\n",
       "      <td>0.0</td>\n",
       "    </tr>\n",
       "    <tr>\n",
       "      <th>3</th>\n",
       "      <td>2</td>\n",
       "      <td>10</td>\n",
       "      <td>10</td>\n",
       "      <td>2016</td>\n",
       "      <td>3</td>\n",
       "      <td>0</td>\n",
       "      <td>1.0</td>\n",
       "    </tr>\n",
       "    <tr>\n",
       "      <th>4</th>\n",
       "      <td>12</td>\n",
       "      <td>3</td>\n",
       "      <td>14</td>\n",
       "      <td>2016</td>\n",
       "      <td>3</td>\n",
       "      <td>0</td>\n",
       "      <td>1.0</td>\n",
       "    </tr>\n",
       "  </tbody>\n",
       "</table>\n",
       "</div>"
      ],
      "text/plain": [
       "   Team1  Team2  City_Name  Season_Year  Win_Type  Outcome_Type  Result\n",
       "0     11      6          2         2016         3             0     1.0\n",
       "1      3      2         29         2016         3             0     1.0\n",
       "2      6      4         22         2016         2             0     0.0\n",
       "3      2     10         10         2016         3             0     1.0\n",
       "4     12      3         14         2016         3             0     1.0"
      ]
     },
     "execution_count": 347,
     "metadata": {},
     "output_type": "execute_result"
    }
   ],
   "source": [
    "df_toss=df_toss.drop('Toss_Winner',axis=1)\n",
    "df_toss=df_toss.drop('match_winner',axis=1)\n",
    "df_toss.head()"
   ]
  },
  {
   "cell_type": "code",
   "execution_count": 348,
   "metadata": {},
   "outputs": [],
   "source": [
    "def calc_metric_toss(model):\n",
    "    accuracy_stratified=[]\n",
    "    precision_stratified=[]\n",
    "    recall_stratified=[]\n",
    "    misclassified=0\n",
    "    x=df_toss.drop('Result',axis=1)\n",
    "    y=df_toss.Result\n",
    "    for train_index, test_index in skf.split(x, y): \n",
    "        x_train_fold, x_test_fold = x.iloc[train_index], x.iloc[test_index] \n",
    "        y_train_fold, y_test_fold = y.iloc[train_index], y.iloc[test_index]\n",
    "        X= x_train_fold\n",
    "        Y= y_train_fold\n",
    "        model.fit(X,Y)\n",
    "        y_pred=model.predict(x_test_fold)\n",
    "        misclassified+=misclassif(y_pred,y_test_fold)\n",
    "        accuracy_stratified.append(accuracy_score(y_test_fold,y_pred))\n",
    "        precision_stratified.append(precision_score(y_test_fold,y_pred,average='weighted',zero_division=1))\n",
    "        recall_stratified.append(recall_score(y_test_fold,y_pred,average='weighted',zero_division=1))\n",
    "    accuracy=mean(accuracy_stratified)*100\n",
    "    precision=mean(precision_stratified)*100\n",
    "    recall=mean(recall_stratified)*100\n",
    "    metrics={}\n",
    "    metrics['accuracy']=accuracy\n",
    "    metrics['precision']=precision\n",
    "    metrics['recall']=recall\n",
    "    metrics['misclassified']=misclassified\n",
    "    print(metrics)\n",
    "    return metrics"
   ]
  },
  {
   "cell_type": "code",
   "execution_count": 349,
   "metadata": {},
   "outputs": [],
   "source": [
    "model1=CategoricalNB()\n",
    "model2=DecisionTreeClassifier(criterion='entropy')\n",
    "model3=RandomForestClassifier()\n",
    "model4=KNeighborsClassifier(n_neighbors=10)"
   ]
  },
  {
   "cell_type": "code",
   "execution_count": 350,
   "metadata": {},
   "outputs": [
    {
     "name": "stdout",
     "output_type": "stream",
     "text": [
      "{'accuracy': 51.09623015873016, 'precision': 51.05969852421024, 'recall': 51.09623015873016, 'misclassified': 309}\n"
     ]
    }
   ],
   "source": [
    "#Naive Bayes\n",
    "tm_model1=calc_metric_toss(model1)"
   ]
  },
  {
   "cell_type": "code",
   "execution_count": 356,
   "metadata": {},
   "outputs": [
    {
     "name": "stdout",
     "output_type": "stream",
     "text": [
      "{'accuracy': 58.072916666666664, 'precision': 58.21097063204831, 'recall': 58.072916666666664, 'misclassified': 265}\n"
     ]
    },
    {
     "data": {
      "text/plain": [
       "{'accuracy': 58.072916666666664,\n",
       " 'precision': 58.21097063204831,\n",
       " 'recall': 58.072916666666664,\n",
       " 'misclassified': 265}"
      ]
     },
     "execution_count": 356,
     "metadata": {},
     "output_type": "execute_result"
    }
   ],
   "source": [
    "#Model Trees\n",
    "tm_model2=calc_metric_toss(model2)\n",
    "tm_model2"
   ]
  },
  {
   "cell_type": "code",
   "execution_count": 353,
   "metadata": {},
   "outputs": [
    {
     "name": "stdout",
     "output_type": "stream",
     "text": [
      "{'accuracy': 56.96180555555556, 'precision': 57.18809607209132, 'recall': 56.96180555555556, 'misclassified': 272}\n"
     ]
    },
    {
     "data": {
      "text/plain": [
       "{'accuracy': 56.96180555555556,\n",
       " 'precision': 57.18809607209132,\n",
       " 'recall': 56.96180555555556,\n",
       " 'misclassified': 272}"
      ]
     },
     "execution_count": 353,
     "metadata": {},
     "output_type": "execute_result"
    }
   ],
   "source": [
    "#Random Forest\n",
    "tm_model3=calc_metric_toss(model3)\n",
    "tm_model3"
   ]
  },
  {
   "cell_type": "code",
   "execution_count": 316,
   "metadata": {},
   "outputs": [
    {
     "name": "stdout",
     "output_type": "stream",
     "text": [
      "{'accuracy': 61.37152777777778, 'precision': 61.8079834358086, 'recall': 61.37152777777778, 'misclassified': 244}\n"
     ]
    }
   ],
   "source": [
    "#KNN\n",
    "model4=KNeighborsClassifier()\n",
    "tm_model4=calc_metric_toss(model4)"
   ]
  },
  {
   "cell_type": "code",
   "execution_count": 357,
   "metadata": {},
   "outputs": [],
   "source": [
    "accuracy_home=(hm_model3['accuracy'],hm_model4['accuracy'],hm_model2['accuracy'],hm_model1['accuracy'])\n",
    "accuracy_toss=(tm_model3['accuracy'],tm_model4['accuracy'],tm_model2['accuracy'],tm_model1['accuracy'])"
   ]
  },
  {
   "cell_type": "code",
   "execution_count": 358,
   "metadata": {},
   "outputs": [],
   "source": [
    "precision_home=(hm_model3['precision'],hm_model4['precision'],hm_model2['precision'],hm_model1['precision'])\n",
    "precision_toss=(tm_model3['precision'],tm_model4['precision'],tm_model2['precision'],tm_model1['precision'])"
   ]
  },
  {
   "cell_type": "code",
   "execution_count": 359,
   "metadata": {},
   "outputs": [],
   "source": [
    "recall_home=(hm_model3['recall'],hm_model4['recall'],hm_model2['recall'],hm_model1['recall'])\n",
    "recall_toss=(tm_model3['recall'],tm_model4['recall'],tm_model2['recall'],tm_model1['recall'])"
   ]
  },
  {
   "cell_type": "code",
   "execution_count": 361,
   "metadata": {},
   "outputs": [
    {
     "data": {
      "image/png": "[encoded data removed]",
      "text/plain": [
       "<Figure size 432x288 with 1 Axes>"
      ]
     },
     "metadata": {
      "needs_background": "light"
     },
     "output_type": "display_data"
    }
   ],
   "source": [
    "#Fig 3.4A\n",
    "import matplotlib.pyplot as plt\n",
    "plt.bar(['Random Forest','KNN','Model Trees','Naive Bayes'],accuracy_home,width=0.35)\n",
    "plt.ylabel('Accuracy Score')\n",
    "plt.yticks(np.arange(0, 101, 10)) \n",
    "axes=plt.gca()\n",
    "axes.set_ylim([0,100])\n",
    "plt.show()"
   ]
  },
  {
   "cell_type": "code",
   "execution_count": 362,
   "metadata": {},
   "outputs": [
    {
     "data": {
      "image/png": "[encoded data removed]",
      "text/plain": [
       "<Figure size 432x288 with 1 Axes>"
      ]
     },
     "metadata": {
      "needs_background": "light"
     },
     "output_type": "display_data"
    }
   ],
   "source": [
    "#Fig 3.4B\n",
    "ind = np.arange(4)\n",
    "width = 0.25\n",
    "plt.bar(ind, precision_home, width, label='Precision')\n",
    "plt.bar(ind + width, recall_home, width,\n",
    "    label='Recall',color='maroon')\n",
    "\n",
    "plt.ylabel('Score')\n",
    "plt.title('Models')\n",
    "axes=plt.gca()\n",
    "axes.set_ylim([0,100])\n",
    "plt.xticks(ind + width / 2, ('Random Forest', 'KNN', 'Model Trees', 'Naive Bayes'))\n",
    "plt.legend(loc='best')\n",
    "plt.show()"
   ]
  },
  {
   "cell_type": "code",
   "execution_count": 363,
   "metadata": {},
   "outputs": [
    {
     "data": {
      "image/png": "[encoded data removed]",
      "text/plain": [
       "<Figure size 432x288 with 1 Axes>"
      ]
     },
     "metadata": {
      "needs_background": "light"
     },
     "output_type": "display_data"
    }
   ],
   "source": [
    "#Fig 3.4c\n",
    "plt.bar(['Random Forest','KNN','Model Trees','Naive Bayes'],accuracy_toss,width=0.35)\n",
    "plt.ylabel('Accuracy Score')\n",
    "plt.yticks(np.arange(0, 101, 10)) \n",
    "axes=plt.gca()\n",
    "axes.set_ylim([0,100])\n",
    "plt.show()"
   ]
  },
  {
   "cell_type": "code",
   "execution_count": 364,
   "metadata": {},
   "outputs": [
    {
     "data": {
      "image/png": "[encoded data removed]",
      "text/plain": [
       "<Figure size 432x288 with 1 Axes>"
      ]
     },
     "metadata": {
      "needs_background": "light"
     },
     "output_type": "display_data"
    }
   ],
   "source": [
    "#Fig 3.4D\n",
    "ind = np.arange(4)\n",
    "width = 0.25\n",
    "plt.bar(ind, precision_toss, width, label='Precision')\n",
    "plt.bar(ind + width, recall_toss, width,\n",
    "    label='Recall',color='maroon')\n",
    "\n",
    "plt.ylabel('Score')\n",
    "plt.title('Models')\n",
    "axes=plt.gca()\n",
    "axes.set_ylim([0,100])\n",
    "plt.xticks(ind + width / 2, ('Random Forest', 'KNN', 'Model Trees', 'Naive Bayes'))\n",
    "plt.legend(loc='best')\n",
    "plt.show()"
   ]
  },
  {
   "cell_type": "code",
   "execution_count": null,
   "metadata": {},
   "outputs": [],
   "source": []
  }
 ],
 "metadata": {
  "kernelspec": {
   "display_name": "Python 3",
   "language": "python",
   "name": "python3"
  },
  "language_info": {
   "codemirror_mode": {
    "name": "ipython",
    "version": 3
   },
   "file_extension": ".py",
   "mimetype": "text/x-python",
   "name": "python",
   "nbconvert_exporter": "python",
   "pygments_lexer": "ipython3",
   "version": "3.7.6"
  }
 },
 "nbformat": 4,
 "nbformat_minor": 4
}
